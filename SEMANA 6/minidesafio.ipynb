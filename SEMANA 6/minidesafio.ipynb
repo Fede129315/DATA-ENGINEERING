{
 "cells": [
  {
   "cell_type": "code",
   "execution_count": 1,
   "id": "ba9a1f00-7a7f-4199-b2e6-855523a581c0",
   "metadata": {
    "scrolled": true
   },
   "outputs": [
    {
     "name": "stdout",
     "output_type": "stream",
     "text": [
      "Collecting pytrends\n",
      "  Downloading pytrends-4.9.2-py3-none-any.whl (15 kB)\n",
      "Requirement already satisfied: requests>=2.0 in c:\\users\\federico.bergada\\application data\\lib\\site-packages (from pytrends) (2.31.0)\n",
      "Requirement already satisfied: pandas>=0.25 in c:\\users\\federico.bergada\\application data\\lib\\site-packages (from pytrends) (2.0.1)\n",
      "Requirement already satisfied: lxml in c:\\users\\federico.bergada\\application data\\lib\\site-packages (from pytrends) (4.9.2)\n",
      "Requirement already satisfied: python-dateutil>=2.8.2 in c:\\users\\federico.bergada\\application data\\lib\\site-packages (from pandas>=0.25->pytrends) (2.8.2)\n",
      "Requirement already satisfied: pytz>=2020.1 in c:\\users\\federico.bergada\\application data\\lib\\site-packages (from pandas>=0.25->pytrends) (2023.3)\n",
      "Requirement already satisfied: tzdata>=2022.1 in c:\\users\\federico.bergada\\application data\\lib\\site-packages (from pandas>=0.25->pytrends) (2023.3)\n",
      "Requirement already satisfied: numpy>=1.21.0 in c:\\users\\federico.bergada\\application data\\lib\\site-packages (from pandas>=0.25->pytrends) (1.24.3)\n",
      "Requirement already satisfied: charset-normalizer<4,>=2 in c:\\users\\federico.bergada\\application data\\lib\\site-packages (from requests>=2.0->pytrends) (3.1.0)\n",
      "Requirement already satisfied: idna<4,>=2.5 in c:\\users\\federico.bergada\\application data\\lib\\site-packages (from requests>=2.0->pytrends) (3.4)\n",
      "Requirement already satisfied: urllib3<3,>=1.21.1 in c:\\users\\federico.bergada\\application data\\lib\\site-packages (from requests>=2.0->pytrends) (2.0.2)\n",
      "Requirement already satisfied: certifi>=2017.4.17 in c:\\users\\federico.bergada\\application data\\lib\\site-packages (from requests>=2.0->pytrends) (2023.5.7)\n",
      "Requirement already satisfied: six>=1.5 in c:\\users\\federico.bergada\\application data\\lib\\site-packages (from python-dateutil>=2.8.2->pandas>=0.25->pytrends) (1.16.0)\n",
      "Installing collected packages: pytrends\n",
      "Successfully installed pytrends-4.9.2\n"
     ]
    }
   ],
   "source": [
    "!pip install pytrends"
   ]
  },
  {
   "cell_type": "code",
   "execution_count": null,
   "id": "ecbfd91d-088b-4c10-9a93-9e9364879615",
   "metadata": {},
   "outputs": [],
   "source": []
  }
 ],
 "metadata": {
  "kernelspec": {
   "display_name": "Python 3 (ipykernel)",
   "language": "python",
   "name": "python3"
  },
  "language_info": {
   "codemirror_mode": {
    "name": "ipython",
    "version": 3
   },
   "file_extension": ".py",
   "mimetype": "text/x-python",
   "name": "python",
   "nbconvert_exporter": "python",
   "pygments_lexer": "ipython3",
   "version": "3.11.3"
  }
 },
 "nbformat": 4,
 "nbformat_minor": 5
}
