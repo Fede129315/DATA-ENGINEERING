{
 "cells": [
  {
   "cell_type": "code",
   "execution_count": 1,
   "id": "b100c00a",
   "metadata": {
    "collapsed": true,
    "jupyter": {
     "outputs_hidden": true
    }
   },
   "outputs": [
    {
     "name": "stdout",
     "output_type": "stream",
     "text": [
      "Requirement already satisfied: pandas in c:\\users\\federico.bergada\\application data\\lib\\site-packages (2.0.1)\n",
      "Requirement already satisfied: python-dateutil>=2.8.2 in c:\\users\\federico.bergada\\application data\\lib\\site-packages (from pandas) (2.8.2)\n",
      "Requirement already satisfied: pytz>=2020.1 in c:\\users\\federico.bergada\\application data\\lib\\site-packages (from pandas) (2023.3)\n",
      "Requirement already satisfied: tzdata>=2022.1 in c:\\users\\federico.bergada\\application data\\lib\\site-packages (from pandas) (2023.3)\n",
      "Requirement already satisfied: numpy>=1.21.0 in c:\\users\\federico.bergada\\application data\\lib\\site-packages (from pandas) (1.24.3)\n",
      "Requirement already satisfied: six>=1.5 in c:\\users\\federico.bergada\\application data\\lib\\site-packages (from python-dateutil>=2.8.2->pandas) (1.16.0)\n"
     ]
    }
   ],
   "source": [
    "!pip install pandas"
   ]
  },
  {
   "cell_type": "code",
   "execution_count": 3,
   "id": "d3168c91",
   "metadata": {},
   "outputs": [],
   "source": [
    "import pandas as pd"
   ]
  },
  {
   "cell_type": "code",
   "execution_count": 3,
   "id": "3c4339cb",
   "metadata": {
    "collapsed": true,
    "jupyter": {
     "outputs_hidden": true
    }
   },
   "outputs": [
    {
     "data": {
      "text/plain": [
       "'2.0.1'"
      ]
     },
     "execution_count": 3,
     "metadata": {},
     "output_type": "execute_result"
    }
   ],
   "source": [
    "pd.__version__"
   ]
  },
  {
   "cell_type": "code",
   "execution_count": 7,
   "id": "be589c09",
   "metadata": {},
   "outputs": [],
   "source": [
    "# CREAR UNA SERIE\n",
    "clases = pd.Series([\"Matemáticas\",\"Lengua\",\"Ciencias Naturales\"])\n",
    "notas_promedio = pd.Series([6,8,7])\n",
    "\n",
    "# CREAR UN DATAFRAME\n",
    "df = pd.DataFrame({\"Clases\" : clases , \"Notas Promedio\" : notas_promedio})"
   ]
  },
  {
   "cell_type": "code",
   "execution_count": 8,
   "id": "2c5b7ced-7fde-43ea-aa9a-ff9cc23d9798",
   "metadata": {},
   "outputs": [
    {
     "data": {
      "text/html": [
       "<div>\n",
       "<style scoped>\n",
       "    .dataframe tbody tr th:only-of-type {\n",
       "        vertical-align: middle;\n",
       "    }\n",
       "\n",
       "    .dataframe tbody tr th {\n",
       "        vertical-align: top;\n",
       "    }\n",
       "\n",
       "    .dataframe thead th {\n",
       "        text-align: right;\n",
       "    }\n",
       "</style>\n",
       "<table border=\"1\" class=\"dataframe\">\n",
       "  <thead>\n",
       "    <tr style=\"text-align: right;\">\n",
       "      <th></th>\n",
       "      <th>Clases</th>\n",
       "      <th>Notas Promedio</th>\n",
       "    </tr>\n",
       "  </thead>\n",
       "  <tbody>\n",
       "    <tr>\n",
       "      <th>0</th>\n",
       "      <td>Matemáticas</td>\n",
       "      <td>6</td>\n",
       "    </tr>\n",
       "    <tr>\n",
       "      <th>1</th>\n",
       "      <td>Lengua</td>\n",
       "      <td>8</td>\n",
       "    </tr>\n",
       "    <tr>\n",
       "      <th>2</th>\n",
       "      <td>Ciencias Naturales</td>\n",
       "      <td>7</td>\n",
       "    </tr>\n",
       "  </tbody>\n",
       "</table>\n",
       "</div>"
      ],
      "text/plain": [
       "               Clases  Notas Promedio\n",
       "0         Matemáticas               6\n",
       "1              Lengua               8\n",
       "2  Ciencias Naturales               7"
      ]
     },
     "execution_count": 8,
     "metadata": {},
     "output_type": "execute_result"
    }
   ],
   "source": [
    "df"
   ]
  },
  {
   "cell_type": "code",
   "execution_count": 12,
   "id": "7bbb3338-d528-42cb-bb5a-6bd19da3f5bf",
   "metadata": {},
   "outputs": [
    {
     "data": {
      "text/html": [
       "<div>\n",
       "<style scoped>\n",
       "    .dataframe tbody tr th:only-of-type {\n",
       "        vertical-align: middle;\n",
       "    }\n",
       "\n",
       "    .dataframe tbody tr th {\n",
       "        vertical-align: top;\n",
       "    }\n",
       "\n",
       "    .dataframe thead th {\n",
       "        text-align: right;\n",
       "    }\n",
       "</style>\n",
       "<table border=\"1\" class=\"dataframe\">\n",
       "  <thead>\n",
       "    <tr style=\"text-align: right;\">\n",
       "      <th></th>\n",
       "      <th>codigo_suministro</th>\n",
       "      <th>operacion_apertura</th>\n",
       "      <th>Horas Inter</th>\n",
       "      <th>ENS $</th>\n",
       "      <th>Mes</th>\n",
       "    </tr>\n",
       "  </thead>\n",
       "  <tbody>\n",
       "    <tr>\n",
       "      <th>0</th>\n",
       "      <td>350211502</td>\n",
       "      <td>106824133</td>\n",
       "      <td>14,42</td>\n",
       "      <td>2400502,93</td>\n",
       "      <td>4</td>\n",
       "    </tr>\n",
       "    <tr>\n",
       "      <th>1</th>\n",
       "      <td>351043001</td>\n",
       "      <td>106678586</td>\n",
       "      <td>5,67</td>\n",
       "      <td>1579801,78</td>\n",
       "      <td>4</td>\n",
       "    </tr>\n",
       "    <tr>\n",
       "      <th>2</th>\n",
       "      <td>322456704</td>\n",
       "      <td>104716206</td>\n",
       "      <td>316,71</td>\n",
       "      <td>1474381,23</td>\n",
       "      <td>4</td>\n",
       "    </tr>\n",
       "    <tr>\n",
       "      <th>3</th>\n",
       "      <td>361473801</td>\n",
       "      <td>106031574</td>\n",
       "      <td>92,27</td>\n",
       "      <td>1064167,99</td>\n",
       "      <td>4</td>\n",
       "    </tr>\n",
       "    <tr>\n",
       "      <th>4</th>\n",
       "      <td>351206501</td>\n",
       "      <td>105303256</td>\n",
       "      <td>2,15</td>\n",
       "      <td>389040,88</td>\n",
       "      <td>4</td>\n",
       "    </tr>\n",
       "    <tr>\n",
       "      <th>...</th>\n",
       "      <td>...</td>\n",
       "      <td>...</td>\n",
       "      <td>...</td>\n",
       "      <td>...</td>\n",
       "      <td>...</td>\n",
       "    </tr>\n",
       "    <tr>\n",
       "      <th>2790</th>\n",
       "      <td>361844102</td>\n",
       "      <td>106836993</td>\n",
       "      <td>18,98</td>\n",
       "      <td>0,00</td>\n",
       "      <td>4</td>\n",
       "    </tr>\n",
       "    <tr>\n",
       "      <th>2791</th>\n",
       "      <td>362706701</td>\n",
       "      <td>106400914</td>\n",
       "      <td>8,19</td>\n",
       "      <td>0,00</td>\n",
       "      <td>4</td>\n",
       "    </tr>\n",
       "    <tr>\n",
       "      <th>2792</th>\n",
       "      <td>367712701</td>\n",
       "      <td>105470058</td>\n",
       "      <td>2,39</td>\n",
       "      <td>0,00</td>\n",
       "      <td>4</td>\n",
       "    </tr>\n",
       "    <tr>\n",
       "      <th>2793</th>\n",
       "      <td>367725201</td>\n",
       "      <td>105656626</td>\n",
       "      <td>14,03</td>\n",
       "      <td>0,00</td>\n",
       "      <td>4</td>\n",
       "    </tr>\n",
       "    <tr>\n",
       "      <th>2794</th>\n",
       "      <td>367732301</td>\n",
       "      <td>104845506</td>\n",
       "      <td>6,57</td>\n",
       "      <td>0,00</td>\n",
       "      <td>4</td>\n",
       "    </tr>\n",
       "  </tbody>\n",
       "</table>\n",
       "<p>2795 rows × 5 columns</p>\n",
       "</div>"
      ],
      "text/plain": [
       "      codigo_suministro  operacion_apertura Horas Inter       ENS $  Mes\n",
       "0             350211502           106824133       14,42  2400502,93    4\n",
       "1             351043001           106678586        5,67  1579801,78    4\n",
       "2             322456704           104716206      316,71  1474381,23    4\n",
       "3             361473801           106031574       92,27  1064167,99    4\n",
       "4             351206501           105303256        2,15   389040,88    4\n",
       "...                 ...                 ...         ...         ...  ...\n",
       "2790          361844102           106836993       18,98        0,00    4\n",
       "2791          362706701           106400914        8,19        0,00    4\n",
       "2792          367712701           105470058        2,39        0,00    4\n",
       "2793          367725201           105656626       14,03        0,00    4\n",
       "2794          367732301           104845506        6,57        0,00    4\n",
       "\n",
       "[2795 rows x 5 columns]"
      ]
     },
     "execution_count": 12,
     "metadata": {},
     "output_type": "execute_result"
    }
   ],
   "source": [
    "#Lee un archivo csv\n",
    "pd.read_csv(\"data.csv\")\n"
   ]
  },
  {
   "cell_type": "code",
   "execution_count": null,
   "id": "38907fe8-2eca-4dac-8326-53ad6a7b411a",
   "metadata": {},
   "outputs": [],
   "source": []
  }
 ],
 "metadata": {
  "kernelspec": {
   "display_name": "Python 3 (ipykernel)",
   "language": "python",
   "name": "python3"
  },
  "language_info": {
   "codemirror_mode": {
    "name": "ipython",
    "version": 3
   },
   "file_extension": ".py",
   "mimetype": "text/x-python",
   "name": "python",
   "nbconvert_exporter": "python",
   "pygments_lexer": "ipython3",
   "version": "3.11.3"
  }
 },
 "nbformat": 4,
 "nbformat_minor": 5
}
