{
 "cells": [
  {
   "cell_type": "code",
   "execution_count": 1,
   "id": "480d710b",
   "metadata": {
    "collapsed": true
   },
   "outputs": [
    {
     "name": "stdout",
     "output_type": "stream",
     "text": [
      "Requirement already satisfied: pandas in c:\\users\\federico.bergada\\application data\\lib\\site-packages (2.0.1)\n",
      "Requirement already satisfied: python-dateutil>=2.8.2 in c:\\users\\federico.bergada\\application data\\lib\\site-packages (from pandas) (2.8.2)\n",
      "Requirement already satisfied: pytz>=2020.1 in c:\\users\\federico.bergada\\application data\\lib\\site-packages (from pandas) (2023.3)\n",
      "Requirement already satisfied: tzdata>=2022.1 in c:\\users\\federico.bergada\\application data\\lib\\site-packages (from pandas) (2023.3)\n",
      "Requirement already satisfied: numpy>=1.21.0 in c:\\users\\federico.bergada\\application data\\lib\\site-packages (from pandas) (1.24.3)\n",
      "Requirement already satisfied: six>=1.5 in c:\\users\\federico.bergada\\application data\\lib\\site-packages (from python-dateutil>=2.8.2->pandas) (1.16.0)\n"
     ]
    }
   ],
   "source": [
    "!pip install pandas"
   ]
  },
  {
   "cell_type": "code",
   "execution_count": 2,
   "id": "1496c6fa",
   "metadata": {},
   "outputs": [],
   "source": [
    "import pandas as pd\n",
    "from string import ascii_uppercase as abecedario\n",
    "import pickle\n"
   ]
  },
  {
   "cell_type": "code",
   "execution_count": 3,
   "id": "e827fcf8",
   "metadata": {},
   "outputs": [],
   "source": [
    "info = pd.read_html('https://es.wikipedia.org/wiki/Copa_Mundial_de_F%C3%BAtbol_de_2022')"
   ]
  },
  {
   "cell_type": "code",
   "execution_count": 4,
   "id": "6d4b35e5",
   "metadata": {
    "collapsed": true
   },
   "outputs": [
    {
     "data": {
      "text/html": [
       "<div>\n",
       "<style scoped>\n",
       "    .dataframe tbody tr th:only-of-type {\n",
       "        vertical-align: middle;\n",
       "    }\n",
       "\n",
       "    .dataframe tbody tr th {\n",
       "        vertical-align: top;\n",
       "    }\n",
       "\n",
       "    .dataframe thead th {\n",
       "        text-align: right;\n",
       "    }\n",
       "</style>\n",
       "<table border=\"1\" class=\"dataframe\">\n",
       "  <thead>\n",
       "    <tr style=\"text-align: right;\">\n",
       "      <th></th>\n",
       "      <th>Selección</th>\n",
       "      <th>Pts</th>\n",
       "      <th>PJ</th>\n",
       "      <th>PG</th>\n",
       "      <th>PE</th>\n",
       "      <th>PP</th>\n",
       "      <th>GF</th>\n",
       "      <th>GC</th>\n",
       "      <th>Dif</th>\n",
       "    </tr>\n",
       "  </thead>\n",
       "  <tbody>\n",
       "    <tr>\n",
       "      <th>0</th>\n",
       "      <td>Portugal</td>\n",
       "      <td>6</td>\n",
       "      <td>3</td>\n",
       "      <td>2</td>\n",
       "      <td>0</td>\n",
       "      <td>1</td>\n",
       "      <td>6</td>\n",
       "      <td>4</td>\n",
       "      <td>2</td>\n",
       "    </tr>\n",
       "    <tr>\n",
       "      <th>1</th>\n",
       "      <td>Corea del Sur</td>\n",
       "      <td>4</td>\n",
       "      <td>3</td>\n",
       "      <td>1</td>\n",
       "      <td>1</td>\n",
       "      <td>1</td>\n",
       "      <td>4</td>\n",
       "      <td>4</td>\n",
       "      <td>0</td>\n",
       "    </tr>\n",
       "    <tr>\n",
       "      <th>2</th>\n",
       "      <td>Uruguay</td>\n",
       "      <td>4</td>\n",
       "      <td>3</td>\n",
       "      <td>1</td>\n",
       "      <td>1</td>\n",
       "      <td>1</td>\n",
       "      <td>2</td>\n",
       "      <td>2</td>\n",
       "      <td>0</td>\n",
       "    </tr>\n",
       "    <tr>\n",
       "      <th>3</th>\n",
       "      <td>Ghana</td>\n",
       "      <td>3</td>\n",
       "      <td>3</td>\n",
       "      <td>1</td>\n",
       "      <td>0</td>\n",
       "      <td>2</td>\n",
       "      <td>5</td>\n",
       "      <td>7</td>\n",
       "      <td>–2</td>\n",
       "    </tr>\n",
       "  </tbody>\n",
       "</table>\n",
       "</div>"
      ],
      "text/plain": [
       "       Selección  Pts  PJ  PG  PE  PP  GF  GC Dif\n",
       "0       Portugal    6   3   2   0   1   6   4   2\n",
       "1  Corea del Sur    4   3   1   1   1   4   4   0\n",
       "2        Uruguay    4   3   1   1   1   2   2   0\n",
       "3          Ghana    3   3   1   0   2   5   7  –2"
      ]
     },
     "execution_count": 4,
     "metadata": {},
     "output_type": "execute_result"
    }
   ],
   "source": [
    "# los grupos van de la A --> H\n",
    "# las tablas de cada grupo comienzan en la 8 y van de 7 en 7\n",
    "info[57]"
   ]
  },
  {
   "cell_type": "code",
   "execution_count": 5,
   "id": "ce5c3337",
   "metadata": {},
   "outputs": [],
   "source": [
    "# recorre todas las tablas con los los resultados de los grupos\n",
    "# A tener en cuenta las letras de los grupos, se sacan de abecedario\n",
    "# luego agrego un diccionario\n",
    "dicc_tablas = {}\n",
    "for letra,i in zip(abecedario,range(8,64,7)):\n",
    "    df = info[i]\n",
    "    dicc_tablas[f'Grupo{letra}'] = df\n",
    "   "
   ]
  },
  {
   "cell_type": "code",
   "execution_count": 6,
   "id": "4627b5bf",
   "metadata": {
    "collapsed": true
   },
   "outputs": [
    {
     "data": {
      "text/plain": [
       "{'GrupoA':       Selección  Pts  PJ  PG  PE  PP  GF  GC Dif\n",
       " 0  Países Bajos    7   3   2   1   0   5   1   4\n",
       " 1       Senegal    6   3   2   0   1   5   4   1\n",
       " 2       Ecuador    4   3   1   1   1   4   3   1\n",
       " 3         Catar    0   3   0   0   3   1   7  –6,\n",
       " 'GrupoB':         Selección  Pts  PJ  PG  PE  PP  GF  GC Dif\n",
       " 0      Inglaterra    7   3   2   1   0   9   2   7\n",
       " 1  Estados Unidos    5   3   1   2   0   2   1   1\n",
       " 2            Irán    3   3   1   0   2   4   7  –3\n",
       " 3           Gales    1   3   0   1   2   1   6  –5,\n",
       " 'GrupoC':         Selección  Pts  PJ  PG  PE  PP  GF  GC Dif\n",
       " 0       Argentina    6   3   2   0   1   5   2   3\n",
       " 1         Polonia    4   3   1   1   1   2   2   0\n",
       " 2          México    4   3   1   1   1   2   3  –1\n",
       " 3  Arabia Saudita    3   3   1   0   2   3   5  –2,\n",
       " 'GrupoD':    Selección  Pts  PJ  PG  PE  PP  GF  GC Dif\n",
       " 0    Francia    6   3   2   0   1   6   3   3\n",
       " 1  Australia    6   3   2   0   1   3   4  –1\n",
       " 2      Túnez    4   3   1   1   1   1   1   0\n",
       " 3  Dinamarca    1   3   0   1   2   1   3  –2,\n",
       " 'GrupoE':     Selección  Pts  PJ  PG  PE  PP  GF  GC Dif\n",
       " 0       Japón    6   3   2   0   1   4   3   1\n",
       " 1      España    4   3   1   1   1   9   3   6\n",
       " 2    Alemania    4   3   1   1   1   6   5   1\n",
       " 3  Costa Rica    3   3   1   0   2   3  11  –8,\n",
       " 'GrupoF':    Selección  Pts  PJ  PG  PE  PP  GF  GC Dif\n",
       " 0  Marruecos    7   3   2   1   0   4   1   3\n",
       " 1    Croacia    5   3   1   2   0   4   1   3\n",
       " 2    Bélgica    4   3   1   1   1   1   2  –1\n",
       " 3     Canadá    0   3   0   0   3   2   7  –5,\n",
       " 'GrupoG':   Selección  Pts  PJ  PG  PE  PP  GF  GC Dif\n",
       " 0    Brasil    6   3   2   0   1   3   1   2\n",
       " 1     Suiza    6   3   2   0   1   4   3   1\n",
       " 2   Camerún    4   3   1   1   1   4   4   0\n",
       " 3    Serbia    1   3   0   1   2   5   8  –3,\n",
       " 'GrupoH':        Selección  Pts  PJ  PG  PE  PP  GF  GC Dif\n",
       " 0       Portugal    6   3   2   0   1   6   4   2\n",
       " 1  Corea del Sur    4   3   1   1   1   4   4   0\n",
       " 2        Uruguay    4   3   1   1   1   2   2   0\n",
       " 3          Ghana    3   3   1   0   2   5   7  –2}"
      ]
     },
     "execution_count": 6,
     "metadata": {},
     "output_type": "execute_result"
    }
   ],
   "source": [
    "dicc_tablas"
   ]
  },
  {
   "cell_type": "code",
   "execution_count": 7,
   "id": "d1ddcf81",
   "metadata": {},
   "outputs": [],
   "source": [
    "# Ahora uso el modulo picke para exportar el diccionario\n",
    "with open('dicc_tablas','wb') as output:\n",
    "    pickle.dump(dicc_tablas,output)\n",
    "\n"
   ]
  },
  {
   "cell_type": "code",
   "execution_count": 8,
   "id": "066001e7",
   "metadata": {
    "collapsed": true
   },
   "outputs": [
    {
     "name": "stdout",
     "output_type": "stream",
     "text": [
      "Requirement already satisfied: sqlalchemy in c:\\users\\federico.bergada\\application data\\lib\\site-packages (2.0.15)\n",
      "Requirement already satisfied: typing-extensions>=4.2.0 in c:\\users\\federico.bergada\\application data\\lib\\site-packages (from sqlalchemy) (4.6.1)\n",
      "Requirement already satisfied: greenlet!=0.4.17 in c:\\users\\federico.bergada\\application data\\lib\\site-packages (from sqlalchemy) (2.0.2)\n"
     ]
    }
   ],
   "source": [
    "!pip install sqlalchemy"
   ]
  },
  {
   "cell_type": "code",
   "execution_count": 9,
   "id": "736647e6",
   "metadata": {
    "collapsed": true
   },
   "outputs": [
    {
     "name": "stdout",
     "output_type": "stream",
     "text": [
      "Requirement already satisfied: psycopg2 in c:\\users\\federico.bergada\\application data\\lib\\site-packages (2.9.6)\n"
     ]
    }
   ],
   "source": [
    "!pip install psycopg2"
   ]
  },
  {
   "cell_type": "code",
   "execution_count": 10,
   "id": "485ebd0f",
   "metadata": {
    "collapsed": true
   },
   "outputs": [
    {
     "name": "stdout",
     "output_type": "stream",
     "text": [
      "Requirement already satisfied: python-dotenv in c:\\users\\federico.bergada\\application data\\lib\\site-packages (1.0.0)\n"
     ]
    }
   ],
   "source": [
    "!pip install python-dotenv"
   ]
  },
  {
   "cell_type": "code",
   "execution_count": 11,
   "id": "fb4ae4dd",
   "metadata": {},
   "outputs": [],
   "source": [
    "# Creando la conexion\n",
    "from sqlalchemy import create_engine \n",
    "import psycopg2\n",
    "import os\n",
    "import dotenv"
   ]
  },
  {
   "cell_type": "code",
   "execution_count": 12,
   "id": "bc9421a0",
   "metadata": {
    "collapsed": true
   },
   "outputs": [
    {
     "data": {
      "text/plain": [
       "True"
      ]
     },
     "execution_count": 12,
     "metadata": {},
     "output_type": "execute_result"
    }
   ],
   "source": [
    "# cargamos las variables de entorno\n",
    "dotenv.load_dotenv()  "
   ]
  },
  {
   "cell_type": "code",
   "execution_count": 13,
   "id": "9add3b37",
   "metadata": {},
   "outputs": [],
   "source": [
    "# leemos las varaibles de entorno\n",
    "usuario = os.getenv('User')\n",
    "passwd = os.getenv('Password')"
   ]
  },
  {
   "cell_type": "code",
   "execution_count": 14,
   "id": "95dc2140",
   "metadata": {
    "scrolled": true
   },
   "outputs": [],
   "source": [
    "conn = create_engine(f'postgresql+psycopg2://User={usuario}&Password={passwd}&Database=data-engineer-database&Server=data-engineer-cluster.cyhh5bfevlmn.us-east-1.redshift.amazonaws.com&Port=5439')"
   ]
  },
  {
   "cell_type": "code",
   "execution_count": 15,
   "id": "6063139b",
   "metadata": {},
   "outputs": [
    {
     "ename": "AttributeError",
     "evalue": "'dict' object has no attribute 'to_sql'",
     "output_type": "error",
     "traceback": [
      "\u001b[1;31m---------------------------------------------------------------------------\u001b[0m",
      "\u001b[1;31mAttributeError\u001b[0m                            Traceback (most recent call last)",
      "Cell \u001b[1;32mIn[15], line 2\u001b[0m\n\u001b[0;32m      1\u001b[0m \u001b[38;5;66;03m# Exportar la tabla\u001b[39;00m\n\u001b[1;32m----> 2\u001b[0m \u001b[43mdicc_tablas\u001b[49m\u001b[38;5;241;43m.\u001b[39;49m\u001b[43mto_sql\u001b[49m(\u001b[38;5;124m'\u001b[39m\u001b[38;5;124mfaseDeGruposMundial\u001b[39m\u001b[38;5;124m'\u001b[39m, conn, index\u001b[38;5;241m=\u001b[39m\u001b[38;5;28;01mFalse\u001b[39;00m, if_exists\u001b[38;5;241m=\u001b[39m\u001b[38;5;124m'\u001b[39m\u001b[38;5;124mreplace\u001b[39m\u001b[38;5;124m'\u001b[39m)\n",
      "\u001b[1;31mAttributeError\u001b[0m: 'dict' object has no attribute 'to_sql'"
     ]
    }
   ],
   "source": [
    "# Exportar la tabla\n",
    "dicc_tablas.to_sql('faseDeGruposMundial', conn, index=False, if_exists='replace')"
   ]
  },
  {
   "cell_type": "code",
   "execution_count": null,
   "id": "feed3852",
   "metadata": {},
   "outputs": [],
   "source": []
  }
 ],
 "metadata": {
  "kernelspec": {
   "display_name": "Python 3 (ipykernel)",
   "language": "python",
   "name": "python3"
  },
  "language_info": {
   "codemirror_mode": {
    "name": "ipython",
    "version": 3
   },
   "file_extension": ".py",
   "mimetype": "text/x-python",
   "name": "python",
   "nbconvert_exporter": "python",
   "pygments_lexer": "ipython3",
   "version": "3.11.3"
  }
 },
 "nbformat": 4,
 "nbformat_minor": 5
}
