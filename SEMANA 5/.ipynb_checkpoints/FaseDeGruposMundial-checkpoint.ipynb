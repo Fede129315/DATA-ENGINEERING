{
 "cells": [
  {
   "cell_type": "code",
   "execution_count": 1,
   "id": "480d710b",
   "metadata": {
    "collapsed": true,
    "jupyter": {
     "outputs_hidden": true
    },
    "tags": []
   },
   "outputs": [
    {
     "name": "stdout",
     "output_type": "stream",
     "text": [
      "Requirement already satisfied: pandas in /opt/conda/lib/python3.10/site-packages (2.0.0)\n",
      "Requirement already satisfied: python-dateutil>=2.8.2 in /opt/conda/lib/python3.10/site-packages (from pandas) (2.8.2)\n",
      "Requirement already satisfied: pytz>=2020.1 in /opt/conda/lib/python3.10/site-packages (from pandas) (2023.3)\n",
      "Requirement already satisfied: tzdata>=2022.1 in /opt/conda/lib/python3.10/site-packages (from pandas) (2023.3)\n",
      "Requirement already satisfied: numpy>=1.21.0 in /opt/conda/lib/python3.10/site-packages (from pandas) (1.23.5)\n",
      "Requirement already satisfied: six>=1.5 in /opt/conda/lib/python3.10/site-packages (from python-dateutil>=2.8.2->pandas) (1.16.0)\n"
     ]
    }
   ],
   "source": [
    "!pip install pandas"
   ]
  },
  {
   "cell_type": "code",
   "execution_count": 2,
   "id": "feed3852",
   "metadata": {
    "collapsed": true,
    "jupyter": {
     "outputs_hidden": true
    },
    "tags": []
   },
   "outputs": [
    {
     "name": "stdout",
     "output_type": "stream",
     "text": [
      "Requirement already satisfied: lxml in /opt/conda/lib/python3.10/site-packages (4.9.2)\n"
     ]
    }
   ],
   "source": [
    "!pip install lxml"
   ]
  },
  {
   "cell_type": "code",
   "execution_count": 3,
   "id": "485ebd0f",
   "metadata": {
    "tags": []
   },
   "outputs": [
    {
     "name": "stdout",
     "output_type": "stream",
     "text": [
      "Requirement already satisfied: python-dotenv in /opt/conda/lib/python3.10/site-packages (1.0.0)\n"
     ]
    }
   ],
   "source": [
    "!pip install python-dotenv"
   ]
  },
  {
   "cell_type": "code",
   "execution_count": 4,
   "id": "1496c6fa",
   "metadata": {
    "tags": []
   },
   "outputs": [],
   "source": [
    "import pandas as pd\n",
    "import pickle\n"
   ]
  },
  {
   "cell_type": "code",
   "execution_count": 5,
   "id": "fb4ae4dd",
   "metadata": {
    "tags": []
   },
   "outputs": [],
   "source": [
    "# (Creando la conexion)\n",
    "import os\n",
    "import dotenv"
   ]
  },
  {
   "cell_type": "code",
   "execution_count": 6,
   "id": "e827fcf8",
   "metadata": {
    "tags": []
   },
   "outputs": [],
   "source": [
    "info = pd.read_html('https://es.wikipedia.org/wiki/Copa_Mundial_de_F%C3%BAtbol_de_2022')"
   ]
  },
  {
   "cell_type": "code",
   "execution_count": 7,
   "id": "bc9421a0",
   "metadata": {
    "collapsed": true,
    "jupyter": {
     "outputs_hidden": true
    },
    "tags": []
   },
   "outputs": [
    {
     "data": {
      "text/plain": [
       "True"
      ]
     },
     "execution_count": 7,
     "metadata": {},
     "output_type": "execute_result"
    }
   ],
   "source": [
    "# cargamos las variables de entorno\n",
    "dotenv.load_dotenv()  "
   ]
  },
  {
   "cell_type": "code",
   "execution_count": 8,
   "id": "9add3b37",
   "metadata": {
    "tags": []
   },
   "outputs": [],
   "source": [
    "# leemos las varaibles de entorno\n",
    "usuario = os.getenv('User')\n",
    "passwd = os.getenv('Password')\n",
    "host = os.getenv('host')\n",
    "database = os.getenv('db')"
   ]
  },
  {
   "cell_type": "code",
   "execution_count": 9,
   "id": "578c4c86-4308-433a-b864-d1c8aedcd467",
   "metadata": {
    "collapsed": true,
    "jupyter": {
     "outputs_hidden": true
    },
    "tags": []
   },
   "outputs": [
    {
     "name": "stdout",
     "output_type": "stream",
     "text": [
      "Requirement already satisfied: redshift_connector in /opt/conda/lib/python3.10/site-packages (2.0.910)\n",
      "Requirement already satisfied: scramp<1.5.0,>=1.2.0 in /opt/conda/lib/python3.10/site-packages (from redshift_connector) (1.4.4)\n",
      "Requirement already satisfied: pytz>=2020.1 in /opt/conda/lib/python3.10/site-packages (from redshift_connector) (2023.3)\n",
      "Requirement already satisfied: beautifulsoup4<5.0.0,>=4.7.0 in /opt/conda/lib/python3.10/site-packages (from redshift_connector) (4.12.2)\n",
      "Requirement already satisfied: boto3<2.0.0,>=1.9.201 in /opt/conda/lib/python3.10/site-packages (from redshift_connector) (1.26.142)\n",
      "Requirement already satisfied: requests<3.0.0,>=2.23.0 in /opt/conda/lib/python3.10/site-packages (from redshift_connector) (2.28.2)\n",
      "Requirement already satisfied: lxml>=4.6.5 in /opt/conda/lib/python3.10/site-packages (from redshift_connector) (4.9.2)\n",
      "Requirement already satisfied: botocore<2.0.0,>=1.12.201 in /opt/conda/lib/python3.10/site-packages (from redshift_connector) (1.29.142)\n",
      "Requirement already satisfied: packaging in /opt/conda/lib/python3.10/site-packages (from redshift_connector) (23.1)\n",
      "Requirement already satisfied: setuptools in /opt/conda/lib/python3.10/site-packages (from redshift_connector) (67.7.1)\n",
      "Requirement already satisfied: soupsieve>1.2 in /opt/conda/lib/python3.10/site-packages (from beautifulsoup4<5.0.0,>=4.7.0->redshift_connector) (2.3.2.post1)\n",
      "Requirement already satisfied: jmespath<2.0.0,>=0.7.1 in /opt/conda/lib/python3.10/site-packages (from boto3<2.0.0,>=1.9.201->redshift_connector) (1.0.1)\n",
      "Requirement already satisfied: s3transfer<0.7.0,>=0.6.0 in /opt/conda/lib/python3.10/site-packages (from boto3<2.0.0,>=1.9.201->redshift_connector) (0.6.1)\n",
      "Requirement already satisfied: python-dateutil<3.0.0,>=2.1 in /opt/conda/lib/python3.10/site-packages (from botocore<2.0.0,>=1.12.201->redshift_connector) (2.8.2)\n",
      "Requirement already satisfied: urllib3<1.27,>=1.25.4 in /opt/conda/lib/python3.10/site-packages (from botocore<2.0.0,>=1.12.201->redshift_connector) (1.26.15)\n",
      "Requirement already satisfied: charset-normalizer<4,>=2 in /opt/conda/lib/python3.10/site-packages (from requests<3.0.0,>=2.23.0->redshift_connector) (3.1.0)\n",
      "Requirement already satisfied: idna<4,>=2.5 in /opt/conda/lib/python3.10/site-packages (from requests<3.0.0,>=2.23.0->redshift_connector) (3.4)\n",
      "Requirement already satisfied: certifi>=2017.4.17 in /opt/conda/lib/python3.10/site-packages (from requests<3.0.0,>=2.23.0->redshift_connector) (2022.12.7)\n",
      "Requirement already satisfied: asn1crypto>=1.5.1 in /opt/conda/lib/python3.10/site-packages (from scramp<1.5.0,>=1.2.0->redshift_connector) (1.5.1)\n",
      "Requirement already satisfied: six>=1.5 in /opt/conda/lib/python3.10/site-packages (from python-dateutil<3.0.0,>=2.1->botocore<2.0.0,>=1.12.201->redshift_connector) (1.16.0)\n"
     ]
    }
   ],
   "source": [
    "!pip install redshift_connector # para conectarse con cluster de AWS"
   ]
  },
  {
   "cell_type": "code",
   "execution_count": 10,
   "id": "344b1f6e-cbfb-4efd-8b82-baf7d1f68ee0",
   "metadata": {
    "tags": []
   },
   "outputs": [],
   "source": [
    "import redshift_connector\n",
    "\n",
    "conn = redshift_connector.connect(\n",
    "     host=host,\n",
    "     database=database,\n",
    "     port=5439,\n",
    "     user=usuario,\n",
    "     password=passwd\n",
    "  )"
   ]
  },
  {
   "cell_type": "code",
   "execution_count": 11,
   "id": "b2e5d6e5-0835-4afa-9602-b2af487fd7b9",
   "metadata": {
    "collapsed": true,
    "jupyter": {
     "outputs_hidden": true
    },
    "tags": []
   },
   "outputs": [
    {
     "data": {
      "text/plain": [
       "<redshift_connector.cursor.Cursor at 0x7f9ae267fd00>"
      ]
     },
     "execution_count": 11,
     "metadata": {},
     "output_type": "execute_result"
    }
   ],
   "source": [
    "my_schema='federicobergada_coderhouse'\n",
    "\n",
    "conn.rollback() #regresa al inicio del programa, antes de la ejecución de estos cambios. De esta manera, no se deja ninguna operación a medias.\n",
    "conn.autocommit = True\n",
    "cursor = conn.cursor()\n",
    "cursor.execute(f'CREATE TABLE if not exists {my_schema}.faseDeGruposMundial(Selección VARCHAR(30),Pts INT, PJ INT, PG INT, PE INT, PP INT, GF INT, GC INT, Dif VARCHAR(5))')\n"
   ]
  },
  {
   "cell_type": "code",
   "execution_count": 13,
   "id": "40295bc1-47df-4eb1-867a-7a9a022b6b1e",
   "metadata": {},
   "outputs": [
    {
     "name": "stdout",
     "output_type": "stream",
     "text": [
      "<class 'str'>\n",
      "<class 'str'>\n",
      "<class 'str'>\n",
      "<class 'str'>\n",
      "<class 'str'>\n",
      "<class 'str'>\n",
      "<class 'str'>\n",
      "<class 'str'>\n",
      "<class 'str'>\n",
      "<class 'str'>\n",
      "<class 'str'>\n",
      "<class 'str'>\n",
      "<class 'str'>\n",
      "<class 'str'>\n",
      "<class 'str'>\n",
      "<class 'str'>\n",
      "<class 'str'>\n",
      "<class 'str'>\n",
      "<class 'str'>\n",
      "<class 'str'>\n",
      "<class 'str'>\n",
      "<class 'str'>\n",
      "<class 'str'>\n",
      "<class 'str'>\n",
      "<class 'str'>\n",
      "<class 'str'>\n",
      "<class 'str'>\n",
      "<class 'str'>\n",
      "<class 'str'>\n",
      "<class 'str'>\n",
      "<class 'str'>\n",
      "<class 'str'>\n"
     ]
    }
   ],
   "source": [
    "# Insert Dataframe into SQL Server:\n",
    "import numpy as np\n",
    "\n",
    "sql = \"INSERT INTO federicobergada_coderhouse.faseDeGruposMundial(Selección,Pts,PJ,PG,PE,PP,GF,GC,Dif) VALUES(%s, %s, %s, %s, %s, %s, %s, %s, %s)\" \n",
    "for k in range(8,64,7):\n",
    "    for i in range(len(info[k].index)):\n",
    "        list_item = []\n",
    "        for j in range(9):\n",
    "            if type(list(info[k].iloc[i])[j])  is np.int64:        \n",
    "                list_item.append(list(info[k].iloc[i])[j].item())\n",
    "            else:\n",
    "                list_item.append(list(info[k].iloc[i])[j])\n",
    "             #valores = list(info[k].iloc[i])\n",
    "        #print(type(list_item[len(list_item)-1]))\n",
    "        cursor.execute(sql, list_item)\n",
    "conn.commit() \n",
    "cursor.close()\n",
    "\n",
    "# for k in range(8,64,7):\n",
    "  #  for i in range(len(info[k].index)):\n",
    " #       for j in range(9):\n",
    "   #         if type(list(info[k].iloc[i])[j])  is numpy.int64:        \n",
    "     #           list_item.append(list(info[k].iloc[i])[j].item())\n",
    "    #            print(type(list_item[len(list_item)-1]))"
   ]
  }
 ],
 "metadata": {
  "kernelspec": {
   "display_name": "Python 3 (ipykernel)",
   "language": "python",
   "name": "python3"
  },
  "language_info": {
   "codemirror_mode": {
    "name": "ipython",
    "version": 3
   },
   "file_extension": ".py",
   "mimetype": "text/x-python",
   "name": "python",
   "nbconvert_exporter": "python",
   "pygments_lexer": "ipython3",
   "version": "3.10.10"
  }
 },
 "nbformat": 4,
 "nbformat_minor": 5
}
