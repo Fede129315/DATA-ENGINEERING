{
 "cells": [
  {
   "cell_type": "markdown",
   "id": "60e9a6d7-8790-4099-8919-27564c20a91a",
   "metadata": {},
   "source": [
    "# Entregable semana 7\n",
    "## Sobre la base del entregable de la semana 5\n",
    "#### - Se agrego un DF que incorpora datos del top 50 actuales del ranking FIFA con el objetivo de saber como les fue durante la fase de grupos del mundial.\n",
    "#### - Se tomo en cuenta que al momento de levantar los datos de la web, se usaba la posición de los DF siendo esto suceptible a fallos (segun lo indicado).Para resolverlo se usaron las sentencias \"try\",\"except\" convinado con \" if(df.columns==**)\"\n",
    "\n",
    "\n"
   ]
  },
  {
   "cell_type": "code",
   "execution_count": 1,
   "id": "480d710b",
   "metadata": {
    "collapsed": true,
    "jupyter": {
     "outputs_hidden": true
    },
    "tags": []
   },
   "outputs": [
    {
     "name": "stdout",
     "output_type": "stream",
     "text": [
      "Requirement already satisfied: pandas in c:\\users\\federico.bergada\\application data\\lib\\site-packages (2.0.1)\n",
      "Requirement already satisfied: python-dateutil>=2.8.2 in c:\\users\\federico.bergada\\application data\\lib\\site-packages (from pandas) (2.8.2)\n",
      "Requirement already satisfied: pytz>=2020.1 in c:\\users\\federico.bergada\\application data\\lib\\site-packages (from pandas) (2023.3)\n",
      "Requirement already satisfied: tzdata>=2022.1 in c:\\users\\federico.bergada\\application data\\lib\\site-packages (from pandas) (2023.3)\n",
      "Requirement already satisfied: numpy>=1.21.0 in c:\\users\\federico.bergada\\application data\\lib\\site-packages (from pandas) (1.24.3)\n",
      "Requirement already satisfied: six>=1.5 in c:\\users\\federico.bergada\\application data\\lib\\site-packages (from python-dateutil>=2.8.2->pandas) (1.16.0)\n"
     ]
    }
   ],
   "source": [
    "!pip install pandas"
   ]
  },
  {
   "cell_type": "code",
   "execution_count": 2,
   "id": "feed3852",
   "metadata": {
    "tags": []
   },
   "outputs": [
    {
     "name": "stdout",
     "output_type": "stream",
     "text": [
      "Requirement already satisfied: lxml in c:\\users\\federico.bergada\\application data\\lib\\site-packages (4.9.2)\n"
     ]
    }
   ],
   "source": [
    "!pip install lxml"
   ]
  },
  {
   "cell_type": "code",
   "execution_count": 3,
   "id": "485ebd0f",
   "metadata": {
    "tags": []
   },
   "outputs": [
    {
     "name": "stdout",
     "output_type": "stream",
     "text": [
      "Requirement already satisfied: python-dotenv in c:\\users\\federico.bergada\\application data\\lib\\site-packages (1.0.0)\n"
     ]
    }
   ],
   "source": [
    "!pip install python-dotenv"
   ]
  },
  {
   "cell_type": "code",
   "execution_count": 10,
   "id": "578c4c86-4308-433a-b864-d1c8aedcd467",
   "metadata": {
    "collapsed": true,
    "jupyter": {
     "outputs_hidden": true
    },
    "tags": []
   },
   "outputs": [
    {
     "name": "stdout",
     "output_type": "stream",
     "text": [
      "Requirement already satisfied: redshift_connector in c:\\users\\federico.bergada\\application data\\lib\\site-packages (2.0.910)\n",
      "Requirement already satisfied: scramp<1.5.0,>=1.2.0 in c:\\users\\federico.bergada\\application data\\lib\\site-packages (from redshift_connector) (1.4.4)\n",
      "Requirement already satisfied: pytz>=2020.1 in c:\\users\\federico.bergada\\application data\\lib\\site-packages (from redshift_connector) (2023.3)\n",
      "Requirement already satisfied: beautifulsoup4<5.0.0,>=4.7.0 in c:\\users\\federico.bergada\\application data\\lib\\site-packages (from redshift_connector) (4.12.2)\n",
      "Requirement already satisfied: boto3<2.0.0,>=1.9.201 in c:\\users\\federico.bergada\\application data\\lib\\site-packages (from redshift_connector) (1.26.145)\n",
      "Requirement already satisfied: requests<3.0.0,>=2.23.0 in c:\\users\\federico.bergada\\application data\\lib\\site-packages (from redshift_connector) (2.31.0)\n",
      "Requirement already satisfied: lxml>=4.6.5 in c:\\users\\federico.bergada\\application data\\lib\\site-packages (from redshift_connector) (4.9.2)\n",
      "Requirement already satisfied: botocore<2.0.0,>=1.12.201 in c:\\users\\federico.bergada\\application data\\lib\\site-packages (from redshift_connector) (1.29.145)\n",
      "Requirement already satisfied: packaging in c:\\users\\federico.bergada\\application data\\lib\\site-packages (from redshift_connector) (23.1)\n",
      "Requirement already satisfied: setuptools in c:\\users\\federico.bergada\\application data\\lib\\site-packages (from redshift_connector) (65.5.0)\n",
      "Requirement already satisfied: soupsieve>1.2 in c:\\users\\federico.bergada\\application data\\lib\\site-packages (from beautifulsoup4<5.0.0,>=4.7.0->redshift_connector) (2.4.1)\n",
      "Requirement already satisfied: jmespath<2.0.0,>=0.7.1 in c:\\users\\federico.bergada\\application data\\lib\\site-packages (from boto3<2.0.0,>=1.9.201->redshift_connector) (1.0.1)\n",
      "Requirement already satisfied: s3transfer<0.7.0,>=0.6.0 in c:\\users\\federico.bergada\\application data\\lib\\site-packages (from boto3<2.0.0,>=1.9.201->redshift_connector) (0.6.1)\n",
      "Requirement already satisfied: python-dateutil<3.0.0,>=2.1 in c:\\users\\federico.bergada\\application data\\lib\\site-packages (from botocore<2.0.0,>=1.12.201->redshift_connector) (2.8.2)\n",
      "Requirement already satisfied: urllib3<1.27,>=1.25.4 in c:\\users\\federico.bergada\\application data\\lib\\site-packages (from botocore<2.0.0,>=1.12.201->redshift_connector) (1.26.16)\n",
      "Requirement already satisfied: charset-normalizer<4,>=2 in c:\\users\\federico.bergada\\application data\\lib\\site-packages (from requests<3.0.0,>=2.23.0->redshift_connector) (3.1.0)\n",
      "Requirement already satisfied: idna<4,>=2.5 in c:\\users\\federico.bergada\\application data\\lib\\site-packages (from requests<3.0.0,>=2.23.0->redshift_connector) (3.4)\n",
      "Requirement already satisfied: certifi>=2017.4.17 in c:\\users\\federico.bergada\\application data\\lib\\site-packages (from requests<3.0.0,>=2.23.0->redshift_connector) (2023.5.7)\n",
      "Requirement already satisfied: asn1crypto>=1.5.1 in c:\\users\\federico.bergada\\application data\\lib\\site-packages (from scramp<1.5.0,>=1.2.0->redshift_connector) (1.5.1)\n",
      "Requirement already satisfied: six>=1.5 in c:\\users\\federico.bergada\\application data\\lib\\site-packages (from python-dateutil<3.0.0,>=2.1->botocore<2.0.0,>=1.12.201->redshift_connector) (1.16.0)\n"
     ]
    }
   ],
   "source": [
    "# para conectarse con cluster de AWS\n",
    "!pip install redshift_connector "
   ]
  },
  {
   "cell_type": "code",
   "execution_count": 2,
   "id": "1496c6fa",
   "metadata": {
    "tags": []
   },
   "outputs": [],
   "source": [
    "import pandas as pd\n",
    "import pickle\n"
   ]
  },
  {
   "cell_type": "code",
   "execution_count": 5,
   "id": "fb4ae4dd",
   "metadata": {
    "tags": []
   },
   "outputs": [],
   "source": [
    "# (Creando la conexion)\n",
    "import os\n",
    "import dotenv"
   ]
  },
  {
   "cell_type": "code",
   "execution_count": 31,
   "id": "e827fcf8",
   "metadata": {
    "tags": []
   },
   "outputs": [],
   "source": [
    "info = pd.read_html('https://es.wikipedia.org/wiki/Copa_Mundial_de_F%C3%BAtbol_de_2022')"
   ]
  },
  {
   "cell_type": "code",
   "execution_count": 7,
   "id": "bc9421a0",
   "metadata": {
    "collapsed": true,
    "jupyter": {
     "outputs_hidden": true
    },
    "tags": []
   },
   "outputs": [
    {
     "data": {
      "text/plain": [
       "True"
      ]
     },
     "execution_count": 7,
     "metadata": {},
     "output_type": "execute_result"
    }
   ],
   "source": [
    "# cargamos las variables de entorno\n",
    "dotenv.load_dotenv()  "
   ]
  },
  {
   "cell_type": "code",
   "execution_count": 8,
   "id": "9add3b37",
   "metadata": {
    "tags": []
   },
   "outputs": [],
   "source": [
    "# leemos las varaibles de entorno\n",
    "usuario = os.getenv('User')\n",
    "passwd = os.getenv('Password')\n",
    "host = os.getenv('host')\n",
    "database = os.getenv('db')"
   ]
  },
  {
   "cell_type": "code",
   "execution_count": 11,
   "id": "344b1f6e-cbfb-4efd-8b82-baf7d1f68ee0",
   "metadata": {
    "collapsed": true,
    "jupyter": {
     "outputs_hidden": true
    },
    "tags": []
   },
   "outputs": [
    {
     "ename": "InterfaceError",
     "evalue": "('communication error', PermissionError(13, 'Intento de acceso a un socket no permitido por sus permisos de acceso', None, 10013, None))",
     "output_type": "error",
     "traceback": [
      "\u001b[1;31m---------------------------------------------------------------------------\u001b[0m",
      "\u001b[1;31mPermissionError\u001b[0m                           Traceback (most recent call last)",
      "File \u001b[1;32m~\\Application Data\\Lib\\site-packages\\redshift_connector\\core.py:585\u001b[0m, in \u001b[0;36mConnection.__init__\u001b[1;34m(self, user, password, database, host, port, source_address, unix_sock, ssl, sslmode, timeout, max_prepared_statements, tcp_keepalive, application_name, replication, client_protocol_version, database_metadata_current_db_only, credentials_provider, provider_name, web_identity_token, numeric_to_float)\u001b[0m\n\u001b[0;32m    584\u001b[0m \u001b[38;5;28;01mif\u001b[39;00m unix_sock \u001b[38;5;129;01mis\u001b[39;00m \u001b[38;5;28;01mNone\u001b[39;00m \u001b[38;5;129;01mand\u001b[39;00m host \u001b[38;5;129;01mis\u001b[39;00m \u001b[38;5;129;01mnot\u001b[39;00m \u001b[38;5;28;01mNone\u001b[39;00m:\n\u001b[1;32m--> 585\u001b[0m     \u001b[38;5;28mself\u001b[39m\u001b[38;5;241m.\u001b[39m_usock\u001b[38;5;241m.\u001b[39mconnect((host, port))\n\u001b[0;32m    586\u001b[0m \u001b[38;5;28;01melif\u001b[39;00m unix_sock \u001b[38;5;129;01mis\u001b[39;00m \u001b[38;5;129;01mnot\u001b[39;00m \u001b[38;5;28;01mNone\u001b[39;00m:\n",
      "\u001b[1;31mPermissionError\u001b[0m: [WinError 10013] Intento de acceso a un socket no permitido por sus permisos de acceso",
      "\nDuring handling of the above exception, another exception occurred:\n",
      "\u001b[1;31mInterfaceError\u001b[0m                            Traceback (most recent call last)",
      "Cell \u001b[1;32mIn[11], line 3\u001b[0m\n\u001b[0;32m      1\u001b[0m \u001b[38;5;28;01mimport\u001b[39;00m \u001b[38;5;21;01mredshift_connector\u001b[39;00m\n\u001b[1;32m----> 3\u001b[0m conn \u001b[38;5;241m=\u001b[39m \u001b[43mredshift_connector\u001b[49m\u001b[38;5;241;43m.\u001b[39;49m\u001b[43mconnect\u001b[49m\u001b[43m(\u001b[49m\n\u001b[0;32m      4\u001b[0m \u001b[43m     \u001b[49m\u001b[43mhost\u001b[49m\u001b[38;5;241;43m=\u001b[39;49m\u001b[43mhost\u001b[49m\u001b[43m,\u001b[49m\n\u001b[0;32m      5\u001b[0m \u001b[43m     \u001b[49m\u001b[43mdatabase\u001b[49m\u001b[38;5;241;43m=\u001b[39;49m\u001b[43mdatabase\u001b[49m\u001b[43m,\u001b[49m\n\u001b[0;32m      6\u001b[0m \u001b[43m     \u001b[49m\u001b[43mport\u001b[49m\u001b[38;5;241;43m=\u001b[39;49m\u001b[38;5;241;43m5439\u001b[39;49m\u001b[43m,\u001b[49m\n\u001b[0;32m      7\u001b[0m \u001b[43m     \u001b[49m\u001b[43muser\u001b[49m\u001b[38;5;241;43m=\u001b[39;49m\u001b[43musuario\u001b[49m\u001b[43m,\u001b[49m\n\u001b[0;32m      8\u001b[0m \u001b[43m     \u001b[49m\u001b[43mpassword\u001b[49m\u001b[38;5;241;43m=\u001b[39;49m\u001b[43mpasswd\u001b[49m\n\u001b[0;32m      9\u001b[0m \u001b[43m  \u001b[49m\u001b[43m)\u001b[49m\n",
      "File \u001b[1;32m~\\Application Data\\Lib\\site-packages\\redshift_connector\\__init__.py:340\u001b[0m, in \u001b[0;36mconnect\u001b[1;34m(user, database, password, port, host, source_address, unix_sock, ssl, sslmode, timeout, max_prepared_statements, tcp_keepalive, application_name, replication, idp_host, db_user, app_id, app_name, preferred_role, principal_arn, access_key_id, secret_access_key, session_token, profile, credentials_provider, region, cluster_identifier, iam, client_id, idp_tenant, client_secret, partner_sp_id, idp_response_timeout, listen_port, login_url, auto_create, db_groups, force_lowercase, allow_db_user_override, client_protocol_version, database_metadata_current_db_only, ssl_insecure, web_identity_token, role_session_name, role_arn, iam_disable_cache, auth_profile, endpoint_url, provider_name, scope, numeric_to_float, is_serverless, serverless_acct_id, serverless_work_group, group_federation)\u001b[0m\n\u001b[0;32m    337\u001b[0m _logger\u001b[38;5;241m.\u001b[39mdebug(mask_secure_info_in_props(info)\u001b[38;5;241m.\u001b[39m\u001b[38;5;21m__str__\u001b[39m())\n\u001b[0;32m    338\u001b[0m _logger\u001b[38;5;241m.\u001b[39mdebug(make_divider_block())\n\u001b[1;32m--> 340\u001b[0m \u001b[38;5;28;01mreturn\u001b[39;00m \u001b[43mConnection\u001b[49m\u001b[43m(\u001b[49m\n\u001b[0;32m    341\u001b[0m \u001b[43m    \u001b[49m\u001b[43muser\u001b[49m\u001b[38;5;241;43m=\u001b[39;49m\u001b[43minfo\u001b[49m\u001b[38;5;241;43m.\u001b[39;49m\u001b[43muser_name\u001b[49m\u001b[43m,\u001b[49m\n\u001b[0;32m    342\u001b[0m \u001b[43m    \u001b[49m\u001b[43mhost\u001b[49m\u001b[38;5;241;43m=\u001b[39;49m\u001b[43minfo\u001b[49m\u001b[38;5;241;43m.\u001b[39;49m\u001b[43mhost\u001b[49m\u001b[43m,\u001b[49m\n\u001b[0;32m    343\u001b[0m \u001b[43m    \u001b[49m\u001b[43mdatabase\u001b[49m\u001b[38;5;241;43m=\u001b[39;49m\u001b[43minfo\u001b[49m\u001b[38;5;241;43m.\u001b[39;49m\u001b[43mdb_name\u001b[49m\u001b[43m,\u001b[49m\n\u001b[0;32m    344\u001b[0m \u001b[43m    \u001b[49m\u001b[43mport\u001b[49m\u001b[38;5;241;43m=\u001b[39;49m\u001b[43minfo\u001b[49m\u001b[38;5;241;43m.\u001b[39;49m\u001b[43mport\u001b[49m\u001b[43m,\u001b[49m\n\u001b[0;32m    345\u001b[0m \u001b[43m    \u001b[49m\u001b[43mpassword\u001b[49m\u001b[38;5;241;43m=\u001b[39;49m\u001b[43minfo\u001b[49m\u001b[38;5;241;43m.\u001b[39;49m\u001b[43mpassword\u001b[49m\u001b[43m,\u001b[49m\n\u001b[0;32m    346\u001b[0m \u001b[43m    \u001b[49m\u001b[43msource_address\u001b[49m\u001b[38;5;241;43m=\u001b[39;49m\u001b[43minfo\u001b[49m\u001b[38;5;241;43m.\u001b[39;49m\u001b[43msource_address\u001b[49m\u001b[43m,\u001b[49m\n\u001b[0;32m    347\u001b[0m \u001b[43m    \u001b[49m\u001b[43munix_sock\u001b[49m\u001b[38;5;241;43m=\u001b[39;49m\u001b[43minfo\u001b[49m\u001b[38;5;241;43m.\u001b[39;49m\u001b[43munix_sock\u001b[49m\u001b[43m,\u001b[49m\n\u001b[0;32m    348\u001b[0m \u001b[43m    \u001b[49m\u001b[43mssl\u001b[49m\u001b[38;5;241;43m=\u001b[39;49m\u001b[43minfo\u001b[49m\u001b[38;5;241;43m.\u001b[39;49m\u001b[43mssl\u001b[49m\u001b[43m,\u001b[49m\n\u001b[0;32m    349\u001b[0m \u001b[43m    \u001b[49m\u001b[43msslmode\u001b[49m\u001b[38;5;241;43m=\u001b[39;49m\u001b[43minfo\u001b[49m\u001b[38;5;241;43m.\u001b[39;49m\u001b[43msslmode\u001b[49m\u001b[43m,\u001b[49m\n\u001b[0;32m    350\u001b[0m \u001b[43m    \u001b[49m\u001b[43mtimeout\u001b[49m\u001b[38;5;241;43m=\u001b[39;49m\u001b[43minfo\u001b[49m\u001b[38;5;241;43m.\u001b[39;49m\u001b[43mtimeout\u001b[49m\u001b[43m,\u001b[49m\n\u001b[0;32m    351\u001b[0m \u001b[43m    \u001b[49m\u001b[43mmax_prepared_statements\u001b[49m\u001b[38;5;241;43m=\u001b[39;49m\u001b[43minfo\u001b[49m\u001b[38;5;241;43m.\u001b[39;49m\u001b[43mmax_prepared_statements\u001b[49m\u001b[43m,\u001b[49m\n\u001b[0;32m    352\u001b[0m \u001b[43m    \u001b[49m\u001b[43mtcp_keepalive\u001b[49m\u001b[38;5;241;43m=\u001b[39;49m\u001b[43minfo\u001b[49m\u001b[38;5;241;43m.\u001b[39;49m\u001b[43mtcp_keepalive\u001b[49m\u001b[43m,\u001b[49m\n\u001b[0;32m    353\u001b[0m \u001b[43m    \u001b[49m\u001b[43mapplication_name\u001b[49m\u001b[38;5;241;43m=\u001b[39;49m\u001b[43minfo\u001b[49m\u001b[38;5;241;43m.\u001b[39;49m\u001b[43mapplication_name\u001b[49m\u001b[43m,\u001b[49m\n\u001b[0;32m    354\u001b[0m \u001b[43m    \u001b[49m\u001b[43mreplication\u001b[49m\u001b[38;5;241;43m=\u001b[39;49m\u001b[43minfo\u001b[49m\u001b[38;5;241;43m.\u001b[39;49m\u001b[43mreplication\u001b[49m\u001b[43m,\u001b[49m\n\u001b[0;32m    355\u001b[0m \u001b[43m    \u001b[49m\u001b[43mclient_protocol_version\u001b[49m\u001b[38;5;241;43m=\u001b[39;49m\u001b[43minfo\u001b[49m\u001b[38;5;241;43m.\u001b[39;49m\u001b[43mclient_protocol_version\u001b[49m\u001b[43m,\u001b[49m\n\u001b[0;32m    356\u001b[0m \u001b[43m    \u001b[49m\u001b[43mdatabase_metadata_current_db_only\u001b[49m\u001b[38;5;241;43m=\u001b[39;49m\u001b[43minfo\u001b[49m\u001b[38;5;241;43m.\u001b[39;49m\u001b[43mdatabase_metadata_current_db_only\u001b[49m\u001b[43m,\u001b[49m\n\u001b[0;32m    357\u001b[0m \u001b[43m    \u001b[49m\u001b[43mcredentials_provider\u001b[49m\u001b[38;5;241;43m=\u001b[39;49m\u001b[43minfo\u001b[49m\u001b[38;5;241;43m.\u001b[39;49m\u001b[43mcredentials_provider\u001b[49m\u001b[43m,\u001b[49m\n\u001b[0;32m    358\u001b[0m \u001b[43m    \u001b[49m\u001b[43mprovider_name\u001b[49m\u001b[38;5;241;43m=\u001b[39;49m\u001b[43minfo\u001b[49m\u001b[38;5;241;43m.\u001b[39;49m\u001b[43mprovider_name\u001b[49m\u001b[43m,\u001b[49m\n\u001b[0;32m    359\u001b[0m \u001b[43m    \u001b[49m\u001b[43mweb_identity_token\u001b[49m\u001b[38;5;241;43m=\u001b[39;49m\u001b[43minfo\u001b[49m\u001b[38;5;241;43m.\u001b[39;49m\u001b[43mweb_identity_token\u001b[49m\u001b[43m,\u001b[49m\n\u001b[0;32m    360\u001b[0m \u001b[43m    \u001b[49m\u001b[43mnumeric_to_float\u001b[49m\u001b[38;5;241;43m=\u001b[39;49m\u001b[43minfo\u001b[49m\u001b[38;5;241;43m.\u001b[39;49m\u001b[43mnumeric_to_float\u001b[49m\u001b[43m,\u001b[49m\n\u001b[0;32m    361\u001b[0m \u001b[43m\u001b[49m\u001b[43m)\u001b[49m\n",
      "File \u001b[1;32m~\\Application Data\\Lib\\site-packages\\redshift_connector\\core.py:632\u001b[0m, in \u001b[0;36mConnection.__init__\u001b[1;34m(self, user, password, database, host, port, source_address, unix_sock, ssl, sslmode, timeout, max_prepared_statements, tcp_keepalive, application_name, replication, client_protocol_version, database_metadata_current_db_only, credentials_provider, provider_name, web_identity_token, numeric_to_float)\u001b[0m\n\u001b[0;32m    630\u001b[0m \u001b[38;5;28;01mexcept\u001b[39;00m socket\u001b[38;5;241m.\u001b[39merror \u001b[38;5;28;01mas\u001b[39;00m e:\n\u001b[0;32m    631\u001b[0m     \u001b[38;5;28mself\u001b[39m\u001b[38;5;241m.\u001b[39m_usock\u001b[38;5;241m.\u001b[39mclose()\n\u001b[1;32m--> 632\u001b[0m     \u001b[38;5;28;01mraise\u001b[39;00m InterfaceError(\u001b[38;5;124m\"\u001b[39m\u001b[38;5;124mcommunication error\u001b[39m\u001b[38;5;124m\"\u001b[39m, e)\n\u001b[0;32m    633\u001b[0m \u001b[38;5;28mself\u001b[39m\u001b[38;5;241m.\u001b[39m_flush: typing\u001b[38;5;241m.\u001b[39mCallable \u001b[38;5;241m=\u001b[39m \u001b[38;5;28mself\u001b[39m\u001b[38;5;241m.\u001b[39m_sock\u001b[38;5;241m.\u001b[39mflush\n\u001b[0;32m    634\u001b[0m \u001b[38;5;28mself\u001b[39m\u001b[38;5;241m.\u001b[39m_read: typing\u001b[38;5;241m.\u001b[39mCallable \u001b[38;5;241m=\u001b[39m \u001b[38;5;28mself\u001b[39m\u001b[38;5;241m.\u001b[39m_sock\u001b[38;5;241m.\u001b[39mread\n",
      "\u001b[1;31mInterfaceError\u001b[0m: ('communication error', PermissionError(13, 'Intento de acceso a un socket no permitido por sus permisos de acceso', None, 10013, None))"
     ]
    }
   ],
   "source": [
    "import redshift_connector\n",
    "\n",
    "conn = redshift_connector.connect(\n",
    "     host=host,\n",
    "     database=database,\n",
    "     port=5439,\n",
    "     user=usuario,\n",
    "     password=passwd\n",
    "  )"
   ]
  },
  {
   "cell_type": "code",
   "execution_count": 11,
   "id": "b2e5d6e5-0835-4afa-9602-b2af487fd7b9",
   "metadata": {
    "collapsed": true,
    "jupyter": {
     "outputs_hidden": true
    },
    "tags": []
   },
   "outputs": [
    {
     "data": {
      "text/plain": [
       "<redshift_connector.cursor.Cursor at 0x7f9ae267fd00>"
      ]
     },
     "execution_count": 11,
     "metadata": {},
     "output_type": "execute_result"
    }
   ],
   "source": [
    "my_schema='federicobergada_coderhouse'\n",
    "\n",
    "conn.rollback() #regresa al inicio del programa, antes de la ejecución de estos cambios. De esta manera, no se deja ninguna operación a medias.\n",
    "conn.autocommit = True\n",
    "cursor = conn.cursor()\n",
    "## Aca hay que cambiar la tabla\n",
    "cursor.execute(f'CREATE TABLE if not exists {my_schema}.faseDeGruposMundial(Selección VARCHAR(30),Pts INT, PJ INT, PG INT, PE INT, PP INT, GF INT, GC INT, Dif VARCHAR(5))')\n"
   ]
  },
  {
   "cell_type": "code",
   "execution_count": 43,
   "id": "40295bc1-47df-4eb1-867a-7a9a022b6b1e",
   "metadata": {
    "collapsed": true,
    "jupyter": {
     "outputs_hidden": true
    },
    "scrolled": true
   },
   "outputs": [
    {
     "ename": "NameError",
     "evalue": "name 'cursor' is not defined",
     "output_type": "error",
     "traceback": [
      "\u001b[1;31m---------------------------------------------------------------------------\u001b[0m",
      "\u001b[1;31mNameError\u001b[0m                                 Traceback (most recent call last)",
      "Cell \u001b[1;32mIn[43], line 16\u001b[0m\n\u001b[0;32m     13\u001b[0m                 list_item\u001b[38;5;241m.\u001b[39mappend(\u001b[38;5;28mlist\u001b[39m(info[k]\u001b[38;5;241m.\u001b[39miloc[i])[j])\n\u001b[0;32m     14\u001b[0m              \u001b[38;5;66;03m#valores = list(info[k].iloc[i])\u001b[39;00m\n\u001b[0;32m     15\u001b[0m         \u001b[38;5;66;03m#print(type(list_item[len(list_item)-1]))\u001b[39;00m\n\u001b[1;32m---> 16\u001b[0m         \u001b[43mcursor\u001b[49m\u001b[38;5;241m.\u001b[39mexecute(sql, list_item)\n\u001b[0;32m     17\u001b[0m conn\u001b[38;5;241m.\u001b[39mcommit() \n\u001b[0;32m     18\u001b[0m cursor\u001b[38;5;241m.\u001b[39mclose()\n",
      "\u001b[1;31mNameError\u001b[0m: name 'cursor' is not defined"
     ]
    }
   ],
   "source": [
    "# Aca habría que ver la forma de cambia la forma de subir la tabla  a redsfhit\n",
    "#Este codigo hay que remplazarlo con el que esta abajo\n",
    "# Insert Dataframe into SQL Server:\n",
    "import numpy as np\n",
    "\n",
    "sql = \"INSERT INTO federicobergada_coderhouse.faseDeGruposMundial(Selección,Pts,PJ,PG,PE,PP,GF,GC,Dif) VALUES(%s, %s, %s, %s, %s, %s, %s, %s, %s)\" \n",
    "for k in range(8,64,7):\n",
    "    for i in range(len(info[k].index)):\n",
    "        list_item = []\n",
    "        for j in range(9):\n",
    "            if type(list(info[k].iloc[i])[j])  is np.int64:        \n",
    "                list_item.append(list(info[k].iloc[i])[j].item())\n",
    "            else:\n",
    "                list_item.append(list(info[k].iloc[i])[j])\n",
    "             #valores = list(info[k].iloc[i])\n",
    "        #print(type(list_item[len(list_item)-1]))\n",
    "        cursor.execute(sql, list_item)\n",
    "conn.commit() \n",
    "cursor.close()\n",
    "\n"
   ]
  },
  {
   "cell_type": "code",
   "execution_count": 32,
   "id": "5d9bd0f9-dcd5-4d46-8e49-56d3712ea31c",
   "metadata": {},
   "outputs": [],
   "source": [
    "# Lee los datos de la página, filtranndo por aquellos df con columna dif\n",
    "dfs = pd.read_html('https://es.wikipedia.org/wiki/Copa_Mundial_de_F%C3%BAtbol_de_2022',match='Dif')      "
   ]
  },
  {
   "cell_type": "code",
   "execution_count": 42,
   "id": "c968d063-a780-4537-95c2-fb241466e014",
   "metadata": {
    "collapsed": true,
    "jupyter": {
     "outputs_hidden": true
    },
    "scrolled": true
   },
   "outputs": [
    {
     "name": "stdout",
     "output_type": "stream",
     "text": [
      "['Países Bajos', 7, 3, 2, 1, 0, 5, 1, '4']\n",
      "['Senegal', 6, 3, 2, 0, 1, 5, 4, '1']\n",
      "['Ecuador', 4, 3, 1, 1, 1, 4, 3, '1']\n",
      "['Catar', 0, 3, 0, 0, 3, 1, 7, '–6']\n",
      "['Inglaterra', 7, 3, 2, 1, 0, 9, 2, '7']\n",
      "['Estados Unidos', 5, 3, 1, 2, 0, 2, 1, '1']\n",
      "['Irán', 3, 3, 1, 0, 2, 4, 7, '–3']\n",
      "['Gales', 1, 3, 0, 1, 2, 1, 6, '–5']\n",
      "['Argentina', 6, 3, 2, 0, 1, 5, 2, '3']\n",
      "['Polonia', 4, 3, 1, 1, 1, 2, 2, '0']\n",
      "['México', 4, 3, 1, 1, 1, 2, 3, '–1']\n",
      "['Arabia Saudita', 3, 3, 1, 0, 2, 3, 5, '–2']\n",
      "['Francia', 6, 3, 2, 0, 1, 6, 3, '3']\n",
      "['Australia', 6, 3, 2, 0, 1, 3, 4, '–1']\n",
      "['Túnez', 4, 3, 1, 1, 1, 1, 1, '0']\n",
      "['Dinamarca', 1, 3, 0, 1, 2, 1, 3, '–2']\n",
      "['Japón', 6, 3, 2, 0, 1, 4, 3, '1']\n",
      "['España', 4, 3, 1, 1, 1, 9, 3, '6']\n",
      "['Alemania', 4, 3, 1, 1, 1, 6, 5, '1']\n",
      "['Costa Rica', 3, 3, 1, 0, 2, 3, 11, '–8']\n",
      "['Marruecos', 7, 3, 2, 1, 0, 4, 1, '3']\n",
      "['Croacia', 5, 3, 1, 2, 0, 4, 1, '3']\n",
      "['Bélgica', 4, 3, 1, 1, 1, 1, 2, '–1']\n",
      "['Canadá', 0, 3, 0, 0, 3, 2, 7, '–5']\n",
      "['Brasil', 6, 3, 2, 0, 1, 3, 1, '2']\n",
      "['Suiza', 6, 3, 2, 0, 1, 4, 3, '1']\n",
      "['Camerún', 4, 3, 1, 1, 1, 4, 4, '0']\n",
      "['Serbia', 1, 3, 0, 1, 2, 5, 8, '–3']\n",
      "['Portugal', 6, 3, 2, 0, 1, 6, 4, '2']\n",
      "['Corea del Sur', 4, 3, 1, 1, 1, 4, 4, '0']\n",
      "['Uruguay', 4, 3, 1, 1, 1, 2, 2, '0']\n",
      "['Ghana', 3, 3, 1, 0, 2, 5, 7, '–2']\n"
     ]
    }
   ],
   "source": [
    "# con el try y el except filtra solo los df que tienen las columnas mencionadas (son los df de los grupos) y nos independizamos de llamar a los dataframes por su ubicación \n",
    "#con el resto del codigo permite insertar fila por fila\n",
    "import numpy as np\n",
    "\n",
    "for df in dfs: \n",
    "    try:\n",
    "        if (df.columns == ['Selección', 'Pts', 'PJ', 'PG', 'PE', 'PP', 'GF', 'GC', 'Dif']).all():\n",
    "            for i in range(len(df.index)):\n",
    "                list_item = []\n",
    "                for j in range(9):\n",
    "                    if type(list(df.iloc[i])[j])  is np.int64:\n",
    "                        list_item.append(list(df.iloc[i])[j].item())\n",
    "                    else:\n",
    "                        list_item.append(list(df.iloc[i])[j])\n",
    "                print(list_item)                       \n",
    "    except ValueError:\n",
    "        pass"
   ]
  },
  {
   "cell_type": "code",
   "execution_count": 29,
   "id": "c987b136-b78c-4a4e-abac-f54c6ed6316e",
   "metadata": {
    "collapsed": true,
    "jupyter": {
     "outputs_hidden": true
    },
    "scrolled": true
   },
   "outputs": [
    {
     "name": "stdout",
     "output_type": "stream",
     "text": [
      "    Pos.    V        Selección         Continente Confederación  Total puntos\n",
      "0      1  1.0        Argentina    América del Sur      Conmebol       1840.93\n",
      "1      2  1.0          Francia             Europa          UEFA       1838.45\n",
      "2      3  2.0           Brasil    América del Sur      Conmebol       1834.21\n",
      "3      4  NaN          Bélgica             Europa          UEFA       1792.53\n",
      "4      5  NaN       Inglaterra             Europa          UEFA       1792.43\n",
      "5      6  NaN     Países Bajos             Europa          UEFA       1731.23\n",
      "6      7  NaN          Croacia             Europa          UEFA       1730.02\n",
      "7      8  NaN           Italia             Europa          UEFA       1713.66\n",
      "8      9  NaN         Portugal             Europa          UEFA       1707.22\n",
      "9     10  NaN           España             Europa          UEFA       1682.85\n",
      "10    11  NaN        Marruecos             África           CAF       1677.79\n",
      "11    12  NaN            Suiza             Europa          UEFA       1664.24\n",
      "12    13  NaN   Estados Unidos  América del Norte      Concacaf       1653.77\n",
      "13    14  NaN         Alemania             Europa          UEFA       1647.42\n",
      "14    15  NaN           México  América del Norte      Concacaf       1631.87\n",
      "15    16  NaN          Uruguay    América del Sur      Conmebol       1631.29\n",
      "16    17  NaN         Colombia    América del Sur      Conmebol       1617.08\n",
      "17    18  1.0          Senegal             África           CAF       1613.21\n",
      "18    19  1.0        Dinamarca             Europa          UEFA       1594.53\n",
      "19    20  NaN            Japón               Asia           AFC       1588.59\n",
      "20    21  NaN             Perú    América del Sur      Conmebol       1561.20\n",
      "21    22  1.0           Suecia             Europa          UEFA       1558.70\n",
      "22    23  1.0          Polonia             Europa          UEFA       1553.76\n",
      "23    24  NaN             Irán               Asia           AFC       1553.23\n",
      "24    25  4.0           Serbia             Europa          UEFA       1541.52\n",
      "25    26  2.0            Gales             Europa          UEFA       1538.95\n",
      "26    27  2.0    Corea del Sur               Asia           AFC       1536.01\n",
      "27    28  2.0            Túnez             África           CAF       1535.76\n",
      "28    29  2.0        Australia            Oceanía           AFC       1532.79\n",
      "29    30  4.0          Ucrania             Europa          UEFA       1530.04\n",
      "30    31  NaN            Chile    América del Sur      Conmebol       1511.32\n",
      "31    32  2.0          Austria             Europa          UEFA       1508.24\n",
      "32    33  3.0          Hungría             Europa          UEFA       1504.24\n",
      "33    34  6.0          Argelia             África           CAF       1504.19\n",
      "34    35  4.0           Egipto             África           CAF       1500.67\n",
      "35    36  6.0          Escocia             Europa          UEFA       1500.52\n",
      "36    37  NaN            Rusia      Europa y Asia          UEFA       1495.53\n",
      "37    38  NaN  República Checa             Europa          UEFA       1495.04\n",
      "38    39  7.0       Costa Rica    América Central      Concacaf       1491.12\n",
      "39    40  5.0          Nigeria             África           CAF       1480.80\n",
      "40    41  NaN          Ecuador    América del Sur      Conmebol       1478.13\n",
      "41    42  9.0          Camerún             África           CAF       1470.21\n",
      "42    43  1.0          Turquía             Europa          UEFA       1465.70\n",
      "43    44  1.0          Noruega             Europa          UEFA       1463.77\n",
      "44    45  2.0  Costa de Marfil             África           CAF       1449.95\n",
      "45    46  6.0          Rumania             Europa          UEFA       1444.58\n",
      "46    47  6.0           Canadá  América del Norte      Concacaf       1442.66\n",
      "47    48  2.0         Paraguay    América del Sur      Conmebol       1440.65\n",
      "48    49  1.0          Irlanda             Europa          UEFA       1436.31\n",
      "49    50  NaN     Burkina Faso             África           CAF       1433.91\n"
     ]
    }
   ],
   "source": [
    "# Me traigo el top 50 del ranking Fifa\n",
    "url='https://es.wikipedia.org/wiki/Anexo:Estad%C3%ADsticas_de_la_clasificaci%C3%B3n_mundial_de_la_FIFA'\n",
    "fifadfs=pd.read_html(url,na_values='$Nulls$')\n",
    "\n",
    "for fifadf in fifadfs: \n",
    "    try:\n",
    "        if (fifadf.columns == ['Pos.', 'V', 'Selección', 'Continente', 'Confederación','Total puntos']).all():\n",
    "            print(fifadf)\n",
    "            break\n",
    "    except ValueError:\n",
    "        pass"
   ]
  },
  {
   "cell_type": "code",
   "execution_count": 58,
   "id": "cf3ded53-46e4-4987-8dde-07289086bd75",
   "metadata": {
    "collapsed": true,
    "jupyter": {
     "outputs_hidden": true
    }
   },
   "outputs": [
    {
     "data": {
      "text/html": [
       "<div>\n",
       "<style scoped>\n",
       "    .dataframe tbody tr th:only-of-type {\n",
       "        vertical-align: middle;\n",
       "    }\n",
       "\n",
       "    .dataframe tbody tr th {\n",
       "        vertical-align: top;\n",
       "    }\n",
       "\n",
       "    .dataframe thead th {\n",
       "        text-align: right;\n",
       "    }\n",
       "</style>\n",
       "<table border=\"1\" class=\"dataframe\">\n",
       "  <thead>\n",
       "    <tr style=\"text-align: right;\">\n",
       "      <th></th>\n",
       "      <th>Selección</th>\n",
       "      <th>Pts</th>\n",
       "      <th>PJ</th>\n",
       "      <th>PG</th>\n",
       "      <th>PE</th>\n",
       "      <th>PP</th>\n",
       "      <th>GF</th>\n",
       "      <th>GC</th>\n",
       "      <th>Dif</th>\n",
       "    </tr>\n",
       "  </thead>\n",
       "  <tbody>\n",
       "    <tr>\n",
       "      <th>0</th>\n",
       "      <td>Países Bajos</td>\n",
       "      <td>7</td>\n",
       "      <td>3</td>\n",
       "      <td>2</td>\n",
       "      <td>1</td>\n",
       "      <td>0</td>\n",
       "      <td>5</td>\n",
       "      <td>1</td>\n",
       "      <td>4</td>\n",
       "    </tr>\n",
       "    <tr>\n",
       "      <th>1</th>\n",
       "      <td>Senegal</td>\n",
       "      <td>6</td>\n",
       "      <td>3</td>\n",
       "      <td>2</td>\n",
       "      <td>0</td>\n",
       "      <td>1</td>\n",
       "      <td>5</td>\n",
       "      <td>4</td>\n",
       "      <td>1</td>\n",
       "    </tr>\n",
       "    <tr>\n",
       "      <th>2</th>\n",
       "      <td>Ecuador</td>\n",
       "      <td>4</td>\n",
       "      <td>3</td>\n",
       "      <td>1</td>\n",
       "      <td>1</td>\n",
       "      <td>1</td>\n",
       "      <td>4</td>\n",
       "      <td>3</td>\n",
       "      <td>1</td>\n",
       "    </tr>\n",
       "    <tr>\n",
       "      <th>3</th>\n",
       "      <td>Catar</td>\n",
       "      <td>0</td>\n",
       "      <td>3</td>\n",
       "      <td>0</td>\n",
       "      <td>0</td>\n",
       "      <td>3</td>\n",
       "      <td>1</td>\n",
       "      <td>7</td>\n",
       "      <td>–6</td>\n",
       "    </tr>\n",
       "    <tr>\n",
       "      <th>4</th>\n",
       "      <td>Inglaterra</td>\n",
       "      <td>7</td>\n",
       "      <td>3</td>\n",
       "      <td>2</td>\n",
       "      <td>1</td>\n",
       "      <td>0</td>\n",
       "      <td>9</td>\n",
       "      <td>2</td>\n",
       "      <td>7</td>\n",
       "    </tr>\n",
       "    <tr>\n",
       "      <th>5</th>\n",
       "      <td>Estados Unidos</td>\n",
       "      <td>5</td>\n",
       "      <td>3</td>\n",
       "      <td>1</td>\n",
       "      <td>2</td>\n",
       "      <td>0</td>\n",
       "      <td>2</td>\n",
       "      <td>1</td>\n",
       "      <td>1</td>\n",
       "    </tr>\n",
       "    <tr>\n",
       "      <th>6</th>\n",
       "      <td>Irán</td>\n",
       "      <td>3</td>\n",
       "      <td>3</td>\n",
       "      <td>1</td>\n",
       "      <td>0</td>\n",
       "      <td>2</td>\n",
       "      <td>4</td>\n",
       "      <td>7</td>\n",
       "      <td>–3</td>\n",
       "    </tr>\n",
       "    <tr>\n",
       "      <th>7</th>\n",
       "      <td>Gales</td>\n",
       "      <td>1</td>\n",
       "      <td>3</td>\n",
       "      <td>0</td>\n",
       "      <td>1</td>\n",
       "      <td>2</td>\n",
       "      <td>1</td>\n",
       "      <td>6</td>\n",
       "      <td>–5</td>\n",
       "    </tr>\n",
       "    <tr>\n",
       "      <th>8</th>\n",
       "      <td>Argentina</td>\n",
       "      <td>6</td>\n",
       "      <td>3</td>\n",
       "      <td>2</td>\n",
       "      <td>0</td>\n",
       "      <td>1</td>\n",
       "      <td>5</td>\n",
       "      <td>2</td>\n",
       "      <td>3</td>\n",
       "    </tr>\n",
       "    <tr>\n",
       "      <th>9</th>\n",
       "      <td>Polonia</td>\n",
       "      <td>4</td>\n",
       "      <td>3</td>\n",
       "      <td>1</td>\n",
       "      <td>1</td>\n",
       "      <td>1</td>\n",
       "      <td>2</td>\n",
       "      <td>2</td>\n",
       "      <td>0</td>\n",
       "    </tr>\n",
       "    <tr>\n",
       "      <th>10</th>\n",
       "      <td>México</td>\n",
       "      <td>4</td>\n",
       "      <td>3</td>\n",
       "      <td>1</td>\n",
       "      <td>1</td>\n",
       "      <td>1</td>\n",
       "      <td>2</td>\n",
       "      <td>3</td>\n",
       "      <td>–1</td>\n",
       "    </tr>\n",
       "    <tr>\n",
       "      <th>11</th>\n",
       "      <td>Arabia Saudita</td>\n",
       "      <td>3</td>\n",
       "      <td>3</td>\n",
       "      <td>1</td>\n",
       "      <td>0</td>\n",
       "      <td>2</td>\n",
       "      <td>3</td>\n",
       "      <td>5</td>\n",
       "      <td>–2</td>\n",
       "    </tr>\n",
       "    <tr>\n",
       "      <th>12</th>\n",
       "      <td>Francia</td>\n",
       "      <td>6</td>\n",
       "      <td>3</td>\n",
       "      <td>2</td>\n",
       "      <td>0</td>\n",
       "      <td>1</td>\n",
       "      <td>6</td>\n",
       "      <td>3</td>\n",
       "      <td>3</td>\n",
       "    </tr>\n",
       "    <tr>\n",
       "      <th>13</th>\n",
       "      <td>Australia</td>\n",
       "      <td>6</td>\n",
       "      <td>3</td>\n",
       "      <td>2</td>\n",
       "      <td>0</td>\n",
       "      <td>1</td>\n",
       "      <td>3</td>\n",
       "      <td>4</td>\n",
       "      <td>–1</td>\n",
       "    </tr>\n",
       "    <tr>\n",
       "      <th>14</th>\n",
       "      <td>Túnez</td>\n",
       "      <td>4</td>\n",
       "      <td>3</td>\n",
       "      <td>1</td>\n",
       "      <td>1</td>\n",
       "      <td>1</td>\n",
       "      <td>1</td>\n",
       "      <td>1</td>\n",
       "      <td>0</td>\n",
       "    </tr>\n",
       "    <tr>\n",
       "      <th>15</th>\n",
       "      <td>Dinamarca</td>\n",
       "      <td>1</td>\n",
       "      <td>3</td>\n",
       "      <td>0</td>\n",
       "      <td>1</td>\n",
       "      <td>2</td>\n",
       "      <td>1</td>\n",
       "      <td>3</td>\n",
       "      <td>–2</td>\n",
       "    </tr>\n",
       "    <tr>\n",
       "      <th>16</th>\n",
       "      <td>Japón</td>\n",
       "      <td>6</td>\n",
       "      <td>3</td>\n",
       "      <td>2</td>\n",
       "      <td>0</td>\n",
       "      <td>1</td>\n",
       "      <td>4</td>\n",
       "      <td>3</td>\n",
       "      <td>1</td>\n",
       "    </tr>\n",
       "    <tr>\n",
       "      <th>17</th>\n",
       "      <td>España</td>\n",
       "      <td>4</td>\n",
       "      <td>3</td>\n",
       "      <td>1</td>\n",
       "      <td>1</td>\n",
       "      <td>1</td>\n",
       "      <td>9</td>\n",
       "      <td>3</td>\n",
       "      <td>6</td>\n",
       "    </tr>\n",
       "    <tr>\n",
       "      <th>18</th>\n",
       "      <td>Alemania</td>\n",
       "      <td>4</td>\n",
       "      <td>3</td>\n",
       "      <td>1</td>\n",
       "      <td>1</td>\n",
       "      <td>1</td>\n",
       "      <td>6</td>\n",
       "      <td>5</td>\n",
       "      <td>1</td>\n",
       "    </tr>\n",
       "    <tr>\n",
       "      <th>19</th>\n",
       "      <td>Costa Rica</td>\n",
       "      <td>3</td>\n",
       "      <td>3</td>\n",
       "      <td>1</td>\n",
       "      <td>0</td>\n",
       "      <td>2</td>\n",
       "      <td>3</td>\n",
       "      <td>11</td>\n",
       "      <td>–8</td>\n",
       "    </tr>\n",
       "    <tr>\n",
       "      <th>20</th>\n",
       "      <td>Marruecos</td>\n",
       "      <td>7</td>\n",
       "      <td>3</td>\n",
       "      <td>2</td>\n",
       "      <td>1</td>\n",
       "      <td>0</td>\n",
       "      <td>4</td>\n",
       "      <td>1</td>\n",
       "      <td>3</td>\n",
       "    </tr>\n",
       "    <tr>\n",
       "      <th>21</th>\n",
       "      <td>Croacia</td>\n",
       "      <td>5</td>\n",
       "      <td>3</td>\n",
       "      <td>1</td>\n",
       "      <td>2</td>\n",
       "      <td>0</td>\n",
       "      <td>4</td>\n",
       "      <td>1</td>\n",
       "      <td>3</td>\n",
       "    </tr>\n",
       "    <tr>\n",
       "      <th>22</th>\n",
       "      <td>Bélgica</td>\n",
       "      <td>4</td>\n",
       "      <td>3</td>\n",
       "      <td>1</td>\n",
       "      <td>1</td>\n",
       "      <td>1</td>\n",
       "      <td>1</td>\n",
       "      <td>2</td>\n",
       "      <td>–1</td>\n",
       "    </tr>\n",
       "    <tr>\n",
       "      <th>23</th>\n",
       "      <td>Canadá</td>\n",
       "      <td>0</td>\n",
       "      <td>3</td>\n",
       "      <td>0</td>\n",
       "      <td>0</td>\n",
       "      <td>3</td>\n",
       "      <td>2</td>\n",
       "      <td>7</td>\n",
       "      <td>–5</td>\n",
       "    </tr>\n",
       "    <tr>\n",
       "      <th>24</th>\n",
       "      <td>Brasil</td>\n",
       "      <td>6</td>\n",
       "      <td>3</td>\n",
       "      <td>2</td>\n",
       "      <td>0</td>\n",
       "      <td>1</td>\n",
       "      <td>3</td>\n",
       "      <td>1</td>\n",
       "      <td>2</td>\n",
       "    </tr>\n",
       "    <tr>\n",
       "      <th>25</th>\n",
       "      <td>Suiza</td>\n",
       "      <td>6</td>\n",
       "      <td>3</td>\n",
       "      <td>2</td>\n",
       "      <td>0</td>\n",
       "      <td>1</td>\n",
       "      <td>4</td>\n",
       "      <td>3</td>\n",
       "      <td>1</td>\n",
       "    </tr>\n",
       "    <tr>\n",
       "      <th>26</th>\n",
       "      <td>Camerún</td>\n",
       "      <td>4</td>\n",
       "      <td>3</td>\n",
       "      <td>1</td>\n",
       "      <td>1</td>\n",
       "      <td>1</td>\n",
       "      <td>4</td>\n",
       "      <td>4</td>\n",
       "      <td>0</td>\n",
       "    </tr>\n",
       "    <tr>\n",
       "      <th>27</th>\n",
       "      <td>Serbia</td>\n",
       "      <td>1</td>\n",
       "      <td>3</td>\n",
       "      <td>0</td>\n",
       "      <td>1</td>\n",
       "      <td>2</td>\n",
       "      <td>5</td>\n",
       "      <td>8</td>\n",
       "      <td>–3</td>\n",
       "    </tr>\n",
       "    <tr>\n",
       "      <th>28</th>\n",
       "      <td>Portugal</td>\n",
       "      <td>6</td>\n",
       "      <td>3</td>\n",
       "      <td>2</td>\n",
       "      <td>0</td>\n",
       "      <td>1</td>\n",
       "      <td>6</td>\n",
       "      <td>4</td>\n",
       "      <td>2</td>\n",
       "    </tr>\n",
       "    <tr>\n",
       "      <th>29</th>\n",
       "      <td>Corea del Sur</td>\n",
       "      <td>4</td>\n",
       "      <td>3</td>\n",
       "      <td>1</td>\n",
       "      <td>1</td>\n",
       "      <td>1</td>\n",
       "      <td>4</td>\n",
       "      <td>4</td>\n",
       "      <td>0</td>\n",
       "    </tr>\n",
       "    <tr>\n",
       "      <th>30</th>\n",
       "      <td>Uruguay</td>\n",
       "      <td>4</td>\n",
       "      <td>3</td>\n",
       "      <td>1</td>\n",
       "      <td>1</td>\n",
       "      <td>1</td>\n",
       "      <td>2</td>\n",
       "      <td>2</td>\n",
       "      <td>0</td>\n",
       "    </tr>\n",
       "    <tr>\n",
       "      <th>31</th>\n",
       "      <td>Ghana</td>\n",
       "      <td>3</td>\n",
       "      <td>3</td>\n",
       "      <td>1</td>\n",
       "      <td>0</td>\n",
       "      <td>2</td>\n",
       "      <td>5</td>\n",
       "      <td>7</td>\n",
       "      <td>–2</td>\n",
       "    </tr>\n",
       "  </tbody>\n",
       "</table>\n",
       "</div>"
      ],
      "text/plain": [
       "         Selección  Pts  PJ  PG  PE  PP  GF  GC Dif\n",
       "0     Países Bajos    7   3   2   1   0   5   1   4\n",
       "1          Senegal    6   3   2   0   1   5   4   1\n",
       "2          Ecuador    4   3   1   1   1   4   3   1\n",
       "3            Catar    0   3   0   0   3   1   7  –6\n",
       "4       Inglaterra    7   3   2   1   0   9   2   7\n",
       "5   Estados Unidos    5   3   1   2   0   2   1   1\n",
       "6             Irán    3   3   1   0   2   4   7  –3\n",
       "7            Gales    1   3   0   1   2   1   6  –5\n",
       "8        Argentina    6   3   2   0   1   5   2   3\n",
       "9          Polonia    4   3   1   1   1   2   2   0\n",
       "10          México    4   3   1   1   1   2   3  –1\n",
       "11  Arabia Saudita    3   3   1   0   2   3   5  –2\n",
       "12         Francia    6   3   2   0   1   6   3   3\n",
       "13       Australia    6   3   2   0   1   3   4  –1\n",
       "14           Túnez    4   3   1   1   1   1   1   0\n",
       "15       Dinamarca    1   3   0   1   2   1   3  –2\n",
       "16           Japón    6   3   2   0   1   4   3   1\n",
       "17          España    4   3   1   1   1   9   3   6\n",
       "18        Alemania    4   3   1   1   1   6   5   1\n",
       "19      Costa Rica    3   3   1   0   2   3  11  –8\n",
       "20       Marruecos    7   3   2   1   0   4   1   3\n",
       "21         Croacia    5   3   1   2   0   4   1   3\n",
       "22         Bélgica    4   3   1   1   1   1   2  –1\n",
       "23          Canadá    0   3   0   0   3   2   7  –5\n",
       "24          Brasil    6   3   2   0   1   3   1   2\n",
       "25           Suiza    6   3   2   0   1   4   3   1\n",
       "26         Camerún    4   3   1   1   1   4   4   0\n",
       "27          Serbia    1   3   0   1   2   5   8  –3\n",
       "28        Portugal    6   3   2   0   1   6   4   2\n",
       "29   Corea del Sur    4   3   1   1   1   4   4   0\n",
       "30         Uruguay    4   3   1   1   1   2   2   0\n",
       "31           Ghana    3   3   1   0   2   5   7  –2"
      ]
     },
     "execution_count": 58,
     "metadata": {},
     "output_type": "execute_result"
    }
   ],
   "source": [
    "dffg=pd.DataFrame()\n",
    "import numpy as np\n",
    "for df in dfs: \n",
    "    try:\n",
    "        if (df.columns == ['Selección', 'Pts', 'PJ', 'PG', 'PE', 'PP', 'GF', 'GC', 'Dif']).all():\n",
    "            for i in range(len(df.index)):\n",
    "                list_item = []\n",
    "                for j in range(9):\n",
    "                    if type(list(df.iloc[i])[j])  is np.int64:\n",
    "                        list_item.append(list(df.iloc[i])[j].item())\n",
    "                    else:\n",
    "                        list_item.append(list(df.iloc[i])[j])\n",
    "                dffg = pd.concat([dffg, pd.DataFrame([list_item])], ignore_index=True)\n",
    "                     \n",
    "    except ValueError:\n",
    "        pass\n",
    "dffg.rename(columns = {dffg.columns[0]:'Selección',\n",
    "                                    dffg.columns[1]:'Pts',\n",
    "                                    dffg.columns[2]:'PJ',\n",
    "                                    dffg.columns[3]:'PG',\n",
    "                                    dffg.columns[4]:'PE',\n",
    "                                    dffg.columns[5]:'PP',\n",
    "                                    dffg.columns[6]:'GF',\n",
    "                                    dffg.columns[7]:'GC',\n",
    "                                    dffg.columns[8]:'Dif'},inplace = True)\n",
    "dffg"
   ]
  },
  {
   "cell_type": "code",
   "execution_count": 70,
   "id": "14861ebf-2cdf-49e6-b09c-ced180ea3fb7",
   "metadata": {},
   "outputs": [
    {
     "data": {
      "text/plain": [
       "Selección         object\n",
       "Pts                int64\n",
       "PJ                 int64\n",
       "PG                 int64\n",
       "PE                 int64\n",
       "PP                 int64\n",
       "GF                 int64\n",
       "GC                 int64\n",
       "Dif               object\n",
       "Pos.             float64\n",
       "Continente        object\n",
       "Confederación     object\n",
       "Total puntos     float64\n",
       "dtype: object"
      ]
     },
     "execution_count": 70,
     "metadata": {},
     "output_type": "execute_result"
    }
   ],
   "source": [
    "# la idea es ver como les fue a los top 50 (actuales en el último mundial)\n",
    "# merge entre las dos tablas, y se eliminan los que son nulos, es decir quienes no estaban en el top 50 y lo ordeno por posición\n",
    "dffg_fifa_t = pd.merge(dffg, fifadf, on='Selección',how='left')\n",
    "dffg_fifa = dffg_fifa_t[['Selección', 'Pts', 'PJ', 'PG', 'PE', 'PP', 'GF', 'GC', 'Dif','Pos.', 'Continente', 'Confederación','Total puntos']].dropna().sort_values(by=['Pos.'],ignore_index= True)\n",
    "dffg_fifa.dtypes"
   ]
  },
  {
   "cell_type": "code",
   "execution_count": null,
   "id": "4cc08e1d-badb-4777-a98f-d79feab6db47",
   "metadata": {},
   "outputs": [],
   "source": []
  }
 ],
 "metadata": {
  "kernelspec": {
   "display_name": "Python 3 (ipykernel)",
   "language": "python",
   "name": "python3"
  },
  "language_info": {
   "codemirror_mode": {
    "name": "ipython",
    "version": 3
   },
   "file_extension": ".py",
   "mimetype": "text/x-python",
   "name": "python",
   "nbconvert_exporter": "python",
   "pygments_lexer": "ipython3",
   "version": "3.11.3"
  }
 },
 "nbformat": 4,
 "nbformat_minor": 5
}
